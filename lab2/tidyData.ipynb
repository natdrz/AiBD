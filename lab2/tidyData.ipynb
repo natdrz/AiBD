{
 "cells": [
  {
   "cell_type": "markdown",
   "id": "d6ece4b3",
   "metadata": {},
   "source": [
    "Natalia Drzazga "
   ]
  },
  {
   "cell_type": "code",
   "execution_count": 68,
   "id": "e739c78d",
   "metadata": {
    "pycharm": {
     "is_executing": false
    }
   },
   "outputs": [],
   "source": [
    "import pandas as pd\n",
    "import re \n",
    "from datetime import timedelta\n",
    "\n",
    "\n",
    "# wczytanie pliku billboard.csv\n",
    "url=\"https://raw.githubusercontent.com/KAIR-ISZ/public_lectures/master/Analiza%20i%20Bazy%20Danych%202021/Lab%202/Datasets/billboard.csv\"\n",
    "data=pd.read_csv(url,encoding='latin1')\n",
    "\n",
    "# zrobimy dwa pliczki, jeden z notowaniami a drugi z info o utworach\n",
    "data_info = data[[\"year\",\"artist.inverted\",\"track\",\"time\",\"genre\"]].copy()\n",
    "\n",
    "# zamiana kolumn na wartości\n",
    "data_melted = pd.melt(data, id_vars=[\"year\",\"artist.inverted\",\"track\",\"time\",\"genre\",\"date.entered\",\"date.peaked\"],var_name=\"week_number\", value_name=\"rank\").dropna()\n",
    "data_melted = data_melted.drop(['year','artist.inverted','time','genre'], 1)\n",
    "\n",
    "# zrobienie porządku z tygodniami\n",
    "unique_weeks = data_melted.week_number.unique()\n",
    "for week in unique_weeks:\n",
    "    week_number = int(''.join(re.findall(r'\\d+', week)))\n",
    "    data_melted = data_melted.replace(to_replace=week, value=week_number)\n",
    "    \n",
    "# zrobienie jednej obecnej daty    \n",
    "data_melted['date.entered'] = pd.to_datetime(data_melted['date.entered'])\n",
    "data_series=[]\n",
    "for index, row in data_melted.iterrows():\n",
    "    date = row['date.entered'] + timedelta(weeks=row['week_number']-1)\n",
    "    data_series.append(date)\n",
    "\n",
    "data_melted['date'] = data_series  \n",
    "data_melted = data_melted.drop(['date.peaked','date.entered','week_number'], 1).sort_values(['track','date']).reset_index()\n",
    "\n",
    "# zapisanie uporządkowanej tabeli\n",
    "data_melted.to_csv('billboard_rank.csv')\n",
    "data_info.to_csv('tracks_info.csv')\n",
    "\n"
   ]
  },
  {
   "cell_type": "code",
   "execution_count": null,
   "id": "e6965f0a",
   "metadata": {},
   "outputs": [],
   "source": []
  },
  {
   "cell_type": "code",
   "execution_count": null,
   "id": "53830a84",
   "metadata": {},
   "outputs": [],
   "source": []
  }
 ],
 "metadata": {
  "kernelspec": {
   "display_name": "Python 3",
   "language": "python",
   "name": "python3"
  },
  "language_info": {
   "codemirror_mode": {
    "name": "ipython",
    "version": 3
   },
   "file_extension": ".py",
   "mimetype": "text/x-python",
   "name": "python",
   "nbconvert_exporter": "python",
   "pygments_lexer": "ipython3",
   "version": "3.8.8"
  },
  "pycharm": {
   "stem_cell": {
    "cell_type": "raw",
    "metadata": {
     "collapsed": false
    },
    "source": []
   }
  }
 },
 "nbformat": 4,
 "nbformat_minor": 5
}
